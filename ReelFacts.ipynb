{
  "nbformat": 4,
  "nbformat_minor": 0,
  "metadata": {
    "colab": {
      "name": "ReelFacts.ipynb",
      "provenance": [],
      "authorship_tag": "ABX9TyPccXICVX7ZFH47Wyq+aglJ",
      "include_colab_link": true
    },
    "kernelspec": {
      "name": "python3",
      "display_name": "Python 3"
    },
    "language_info": {
      "name": "python"
    }
  },
  "cells": [
    {
      "cell_type": "markdown",
      "metadata": {
        "id": "view-in-github",
        "colab_type": "text"
      },
      "source": [
        "<a href=\"https://colab.research.google.com/github/aliciasimon/Capstone/blob/main/ReelFacts.ipynb\" target=\"_parent\"><img src=\"https://colab.research.google.com/assets/colab-badge.svg\" alt=\"Open In Colab\"/></a>"
      ]
    },
    {
      "cell_type": "code",
      "metadata": {
        "id": "JUEjrrwY_rQD"
      },
      "source": [
        "#2b\n",
        "def tokonizeSpeaches(speach):\n",
        "  pattern = '\\.|\\?|\\!|\\;'\n",
        "  return re.split(pattern, speach)\n",
        "  #2c decision trees\n",
        "def getMainIdea():\n",
        "  pass\n",
        "  #2d text mining\n",
        "def getRelatedFacts(statement):\n",
        "  pass\n",
        "  #2e machine learning model\n",
        "def compareSemantics(statement, fact):\n",
        "  pass"
      ],
      "execution_count": null,
      "outputs": []
    }
  ]
}